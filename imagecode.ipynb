{
 "cells": [
  {
   "cell_type": "code",
   "execution_count": null,
   "id": "e5946f6a",
   "metadata": {},
   "outputs": [],
   "source": [
    "import os\n",
    "from PIL import Image\n",
    "import numpy as np\n",
    "import pandas as pd"
   ]
  },
  {
   "cell_type": "code",
   "execution_count": null,
   "id": "a5bfcf92",
   "metadata": {},
   "outputs": [],
   "source": [
    "image_directory = \"C:/Users/student/Desktop/Testing Images/\"\n",
    "output_csv = \"images_data.csv\""
   ]
  },
  {
   "cell_type": "code",
   "execution_count": null,
   "id": "5c7bf1d7",
   "metadata": {},
   "outputs": [],
   "source": [
    "# Create a CSV file \n",
    "# This is useful if you want to append new data in future runs without overwriting.\n",
    "with open(output_csv, 'w') as f:\n",
    "    pass  "
   ]
  },
  {
   "cell_type": "code",
   "execution_count": null,
   "id": "0a5b0714",
   "metadata": {},
   "outputs": [],
   "source": [
    "for filename in os.listdir(image_directory):\n",
    "    if filename.endswith(('.png', '.jpg', '.jpeg', '.bmp', '.gif', '.tif')): \n",
    "        img_path = os.path.join(image_directory, filename)\n",
    "        try:\n",
    "            img = Image.open(img_path)  \n",
    "            img = img.resize((6, 6))  #u can resize your image\n",
    "            img = img.convert('L')  \n",
    "            img_array = np.array(img) \n",
    "            img_flattened = img_array.flatten()  \n",
    "\n",
    " \n",
    "            df = pd.DataFrame([img_flattened])\n",
    "\n",
    "            # Append to the CSV file without loading everything into memory\n",
    "            df.to_csv(output_csv, mode='a', header=False, index=False)\n",
    "            print(f\"Processed {filename}\")\n",
    "        except Exception as e:\n",
    "            print(f\"Error processing {filename}: {e}\")\n"
   ]
  },
  {
   "cell_type": "code",
   "execution_count": null,
   "id": "cadf4d86",
   "metadata": {},
   "outputs": [],
   "source": [
    "print(f\"Images successfully saved to {output_csv}\")\n"
   ]
  },
  {
   "cell_type": "code",
   "execution_count": null,
   "id": "c680fb99",
   "metadata": {},
   "outputs": [],
   "source": []
  },
  {
   "cell_type": "code",
   "execution_count": null,
   "id": "95d614ed",
   "metadata": {},
   "outputs": [],
   "source": []
  }
 ],
 "metadata": {
  "kernelspec": {
   "display_name": "Python 3 (ipykernel)",
   "language": "python",
   "name": "python3"
  },
  "language_info": {
   "codemirror_mode": {
    "name": "ipython",
    "version": 3
   },
   "file_extension": ".py",
   "mimetype": "text/x-python",
   "name": "python",
   "nbconvert_exporter": "python",
   "pygments_lexer": "ipython3",
   "version": "3.11.5"
  }
 },
 "nbformat": 4,
 "nbformat_minor": 5
}
